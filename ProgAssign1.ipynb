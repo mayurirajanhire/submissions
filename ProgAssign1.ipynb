{
 "cells": [
  {
   "cell_type": "code",
   "execution_count": 13,
   "id": "d533bd59-2235-4c58-99fe-646b8205d304",
   "metadata": {},
   "outputs": [
    {
     "name": "stdout",
     "output_type": "stream",
     "text": [
      "Hello Python\n"
     ]
    }
   ],
   "source": [
    "print(\"Hello Python\")"
   ]
  },
  {
   "cell_type": "code",
   "execution_count": 6,
   "id": "d87e86c4-5de3-4d24-bf54-b2e4fae015f5",
   "metadata": {},
   "outputs": [
    {
     "name": "stdin",
     "output_type": "stream",
     "text": [
      "enter first number for addition 10\n",
      "enter second number for addition 20\n"
     ]
    },
    {
     "name": "stdout",
     "output_type": "stream",
     "text": [
      "Addition of  30\n"
     ]
    },
    {
     "name": "stdin",
     "output_type": "stream",
     "text": [
      "enter numerator for division 30\n",
      "enter demoninator for division 3\n"
     ]
    },
    {
     "name": "stdout",
     "output_type": "stream",
     "text": [
      " Divition is  10.0\n"
     ]
    }
   ],
   "source": [
    "a=int(input(\"enter first number for addition\"))\n",
    "b=int(input(\"enter second number for addition\"))\n",
    "add=a+b\n",
    "print(\"Addition of \" ,add)\n",
    "c=float(input(\"enter numerator for division\"))\n",
    "d=float(input(\"enter demoninator for division\"))\n",
    "div=c/d\n",
    "print(\" Divition is \" ,div)"
   ]
  },
  {
   "cell_type": "code",
   "execution_count": 19,
   "id": "b0fd33e5-a066-474e-9d0d-288331fefe47",
   "metadata": {},
   "outputs": [
    {
     "name": "stdin",
     "output_type": "stream",
     "text": [
      "enter base of triangle 10.5\n",
      "enter height of triangle 8.5\n"
     ]
    },
    {
     "name": "stdout",
     "output_type": "stream",
     "text": [
      "44.625\n"
     ]
    }
   ],
   "source": [
    "b=float(input(\"enter base of triangle\"))\n",
    "h=float(input(\"enter height of triangle\"))\n",
    "area=1/2*b*h\n",
    "print(area)"
   ]
  },
  {
   "cell_type": "code",
   "execution_count": 13,
   "id": "b48eed15-249a-4ea8-9b7f-6c10c2c33036",
   "metadata": {},
   "outputs": [
    {
     "name": "stdout",
     "output_type": "stream",
     "text": [
      "original value of a is 10\n",
      "original value of b is 20\n",
      "Value after swapping a is  20\n",
      "Value after swapping b is  10\n"
     ]
    }
   ],
   "source": [
    "a=10\n",
    "b=20\n",
    "print(\"original value of a is\" ,a)\n",
    "print(\"original value of b is\" ,b)\n",
    "c=a\n",
    "a=b\n",
    "b=c\n",
    "print(\"Value after swapping a is \" ,a)\n",
    "print(\"Value after swapping b is \" ,b)"
   ]
  },
  {
   "cell_type": "code",
   "execution_count": 19,
   "id": "b66e5b3c-04eb-436a-a153-fff2ee96a578",
   "metadata": {},
   "outputs": [
    {
     "name": "stdout",
     "output_type": "stream",
     "text": [
      "9\n"
     ]
    }
   ],
   "source": [
    "import random as r\n",
    "a=r.randint(0,10)\n",
    "print(a)"
   ]
  }
 ],
 "metadata": {
  "kernelspec": {
   "display_name": "Python 3 (ipykernel)",
   "language": "python",
   "name": "python3"
  },
  "language_info": {
   "codemirror_mode": {
    "name": "ipython",
    "version": 3
   },
   "file_extension": ".py",
   "mimetype": "text/x-python",
   "name": "python",
   "nbconvert_exporter": "python",
   "pygments_lexer": "ipython3",
   "version": "3.10.6"
  }
 },
 "nbformat": 4,
 "nbformat_minor": 5
}
